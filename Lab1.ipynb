{
 "cells": [
  {
   "cell_type": "markdown",
   "id": "fifteen-sailing",
   "metadata": {
    "id": "fifteen-sailing"
   },
   "source": [
    "# Лабораторная работа №1\n",
    "## Выполнил студент группы БВТ2204 Налтакян Карина"
   ]
  },
  {
   "cell_type": "markdown",
   "id": "particular-syndicate",
   "metadata": {
    "id": "particular-syndicate",
    "jp-MarkdownHeadingCollapsed": true
   },
   "source": [
    "### Оглавление\n",
    "1. [Задание 1](#Задание-№1)\n",
    "2. [Задание 2](#Задание-№2)\n",
    "3. [Задание 3](#Задание-№3)\n",
    "4. [Вывод](#Вывод)"
   ]
  },
  {
   "cell_type": "markdown",
   "id": "arctic-stocks",
   "metadata": {
    "id": "arctic-stocks"
   },
   "source": [
    "### Задание №1\n",
    "<i> Вызвать функцию print() и передать туда строку Hello, World! </i>"
   ]
  },
  {
   "cell_type": "code",
   "execution_count": 2,
   "id": "caring-truck",
   "metadata": {
    "id": "caring-truck",
    "scrolled": true
   },
   "outputs": [
    {
     "name": "stdout",
     "output_type": "stream",
     "text": [
      "Hello,world!\n"
     ]
    }
   ],
   "source": [
    "print(\"Hello,world!\")"
   ]
  },
  {
   "cell_type": "markdown",
   "id": "maritime-conversation",
   "metadata": {
    "id": "maritime-conversation"
   },
   "source": [
    "### Задание №2\n",
    "Написать генератор случайных матриц(многомерных), который принимает\n",
    "опциональные параметры <b>m</b>, <b>n</b>, <b>min_limit</b>, <b>max_limit</b>, где <b>m</b> и <b>n</b> указывают размер\n",
    "матрицы, а <b>min_lim</b> и <b>max_lim</b> - минимальное и максимальное значение для\n",
    "генерируемого числа."
   ]
  },
  {
   "cell_type": "code",
   "execution_count": 1,
   "id": "built-contact",
   "metadata": {
    "id": "built-contact"
   },
   "outputs": [],
   "source": [
    "import random\n",
    "import time\n",
    "import numpy as np"
   ]
  },
  {
   "cell_type": "code",
   "execution_count": 14,
   "id": "alert-charm",
   "metadata": {
    "id": "alert-charm",
    "outputId": "c95dd9e7-d076-4718-b6fb-25f2e6bc03b9"
   },
   "outputs": [
    {
     "name": "stdin",
     "output_type": "stream",
     "text": [
      " 100\n",
      " 100\n",
      " 200\n",
      " 450\n"
     ]
    },
    {
     "name": "stdout",
     "output_type": "stream",
     "text": [
      "[[445 267 437 ... 272 389 398]\n",
      " [280 388 405 ... 291 291 386]\n",
      " [377 242 228 ... 395 220 239]\n",
      " ...\n",
      " [411 356 222 ... 427 443 331]\n",
      " [264 388 393 ... 249 391 429]\n",
      " [317 433 255 ... 311 419 401]]\n"
     ]
    }
   ],
   "source": [
    "user_m = int(input())\n",
    "user_n = int(input())\n",
    "user_min_limit = int(input())\n",
    "user_max_limit = int(input())\n",
    "\n",
    "def matrix_generate(user_m, user_n, user_min_limit, user_max_limit): \n",
    "    matrix = np.random.randint(user_min_limit, user_max_limit, size=(user_m, user_n)) \n",
    "    return matrix \n",
    "\n",
    "matrix = matrix_generate(user_m, user_n, user_min_limit, user_max_limit)\n",
    "print(matrix)\n",
    "    "
   ]
  },
  {
   "cell_type": "markdown",
   "id": "catholic-roots",
   "metadata": {
    "id": "catholic-roots"
   },
   "source": [
    "### Задание №3\n",
    "Реализовать методы сортировки строк числовой матрицы в соответствии с\n",
    "заданием. Оценить время работы каждого алгоритма сортировки и сравнить его со\n",
    "временем стандартной функции сортировки. Испытания проводить на сгенерированных\n",
    "матрицах."
   ]
  },
  {
   "cell_type": "code",
   "execution_count": 15,
   "id": "opposed-creature",
   "metadata": {
    "id": "opposed-creature"
   },
   "outputs": [],
   "source": [
    "import copy"
   ]
  },
  {
   "cell_type": "code",
   "execution_count": 16,
   "id": "cleared-anniversary",
   "metadata": {
    "id": "cleared-anniversary",
    "outputId": "b7c76c60-4acb-4c14-9bfb-d4f8d71093a1"
   },
   "outputs": [
    {
     "name": "stdout",
     "output_type": "stream",
     "text": [
      "[[203 205 210 ... 446 446 446]\n",
      " [201 211 213 ... 449 449 449]\n",
      " [203 204 205 ... 443 443 443]\n",
      " ...\n",
      " [200 211 212 ... 449 449 449]\n",
      " [207 211 216 ... 441 441 449]\n",
      " [200 202 203 ... 448 448 448]]\n",
      "--- 164 ms ---\n"
     ]
    }
   ],
   "source": [
    "# Сортировка выбором.\n",
    "# Берётся срез массива, в котором минимальный элемент переносят в самый левый угол,\n",
    "# после чего срез уменьшается и цикл повторяется.\n",
    "start_time = time.time()\n",
    "\n",
    "list1 = matrix.copy()\n",
    "\n",
    "for row in list1:\n",
    "    for i in range(len(row)-1):\n",
    "        srez = row[i:]\n",
    "        mi = min(srez)\n",
    "        mii = np.where(srez == mi)[0]\n",
    "        srez[0],srez[mii] = mi, srez[0]\n",
    "print(list1)\n",
    "\n",
    "print(\"--- {0} ms ---\".format(round((time.time() - start_time)*1000)))"
   ]
  },
  {
   "cell_type": "code",
   "execution_count": 17,
   "id": "roman-silly",
   "metadata": {
    "id": "roman-silly",
    "outputId": "84666b71-fb68-4c07-d27d-e716af29fcbb",
    "scrolled": true
   },
   "outputs": [
    {
     "name": "stdout",
     "output_type": "stream",
     "text": [
      "[[203 205 210 ... 441 445 446]\n",
      " [201 211 213 ... 444 445 449]\n",
      " [203 204 205 ... 442 442 443]\n",
      " ...\n",
      " [200 211 212 ... 443 448 449]\n",
      " [207 211 216 ... 440 441 449]\n",
      " [200 202 203 ... 442 445 448]]\n",
      "--- 362 ms ---\n"
     ]
    }
   ],
   "source": [
    "# Сортировка вставкой.\n",
    "start_time = time.time()\n",
    "\n",
    "list2 = matrix.copy()\n",
    "\n",
    "for row in list2:\n",
    "    for i in range(len(row)):\n",
    "        while i > 0 and row[i] < row[i-1]:\n",
    "            row[i], row[i-1] = row[i-1], row[i]\n",
    "            i -= 1\n",
    "\n",
    "print(list2)\n",
    "print(\"--- {0} ms ---\".format(round((time.time() - start_time)*1000)))"
   ]
  },
  {
   "cell_type": "code",
   "execution_count": 18,
   "id": "vital-implementation",
   "metadata": {
    "id": "vital-implementation",
    "outputId": "7b648bf5-37a5-4d47-926d-b799f7a23be2"
   },
   "outputs": [
    {
     "name": "stdout",
     "output_type": "stream",
     "text": [
      "[[203 205 210 ... 441 445 446]\n",
      " [201 211 213 ... 444 445 449]\n",
      " [203 204 205 ... 442 442 443]\n",
      " ...\n",
      " [200 211 212 ... 443 448 449]\n",
      " [207 211 216 ... 440 441 449]\n",
      " [200 202 203 ... 442 445 448]]\n",
      "--- 1026 ms ---\n"
     ]
    }
   ],
   "source": [
    "# Сортировка обменом. || Сортировка пузырьком.\n",
    "start_time = time.time()\n",
    "\n",
    "list3 = matrix.copy()\n",
    "\n",
    "for row in range(len(list3)):\n",
    "    for i in range(len(list3[row])-1):\n",
    "        for k in range(len(list3[row]) - i - 1):\n",
    "            if list3[row][k] > list3[row][k + 1]:\n",
    "                list3[row][k], list3[row][k + 1] = list3[row][k + 1], list3[row][k]\n",
    "\n",
    "print(list3)\n",
    "            \n",
    "\n",
    "print(\"--- {0} ms ---\".format(round((time.time() - start_time)*1000)))"
   ]
  },
  {
   "cell_type": "code",
   "execution_count": 19,
   "id": "veterinary-glory",
   "metadata": {
    "id": "veterinary-glory",
    "outputId": "9cc2a9ff-ec7a-43de-e4a8-47945d030986"
   },
   "outputs": [
    {
     "name": "stdout",
     "output_type": "stream",
     "text": [
      "[[203 205 210 ... 441 445 446]\n",
      " [201 211 213 ... 444 445 449]\n",
      " [203 204 205 ... 442 442 443]\n",
      " ...\n",
      " [200 211 212 ... 443 448 449]\n",
      " [207 211 216 ... 440 441 449]\n",
      " [200 202 203 ... 442 445 448]]\n",
      "--- 5670 ms ---\n"
     ]
    }
   ],
   "source": [
    "# Сортировка Шелла.\n",
    "start_time = time.time()\n",
    "\n",
    "list4 = matrix.copy() \n",
    "\n",
    "for row in range(len(list4)):\n",
    "    for num in range(len(list4[row])):\n",
    "        d = len(list4[row]) // 2\n",
    "        while d >= 1:\n",
    "            for i in range(len(list4[row]) - d):\n",
    "                if list4[row][i] > list4[row][i + d]:\n",
    "                    list4[row][i], list4[row][i + d] = list4[row][i + d], list4[row][i]\n",
    "            d = d // 2\n",
    "print(list4)\n",
    "print(\"--- {0} ms ---\".format(round((time.time() - start_time)*1000)))"
   ]
  },
  {
   "cell_type": "code",
   "execution_count": 21,
   "id": "correct-chaos",
   "metadata": {
    "id": "correct-chaos",
    "outputId": "f4d9aef1-8a2f-46a0-def0-4c9e049f5c77"
   },
   "outputs": [
    {
     "name": "stdout",
     "output_type": "stream",
     "text": [
      "[[203 205 210 ... 441 445 446]\n",
      " [201 211 213 ... 444 445 449]\n",
      " [203 204 205 ... 442 442 443]\n",
      " ...\n",
      " [200 211 212 ... 443 448 449]\n",
      " [207 211 216 ... 440 441 449]\n",
      " [200 202 203 ... 442 445 448]]\n",
      "--- 44 ms ---\n"
     ]
    }
   ],
   "source": [
    "# Быстрая сортировка.\n",
    "start_time = time.time()\n",
    "list5 = matrix.copy()\n",
    "def quick_sort(arr):\n",
    "    if len(arr) <= 1:\n",
    "        return arr\n",
    "    else:\n",
    "        pivot = arr[0]\n",
    "        less = [x for x in arr[1:] if x <= pivot]\n",
    "        greater = [x for x in arr[1:] if x > pivot]\n",
    "        return quick_sort(less) + [pivot] + quick_sort(greater)\n",
    "\n",
    "for i in range(len(list5)):\n",
    "    list5[i] = quick_sort(list5[i])\n",
    "\n",
    "print(list5)\n",
    "print(\"--- {0} ms ---\".format(round((time.time() - start_time)*1000)))\n",
    "    "
   ]
  },
  {
   "cell_type": "code",
   "execution_count": 22,
   "id": "french-czech",
   "metadata": {
    "colab": {
     "base_uri": "https://localhost:8080/",
     "height": 217
    },
    "executionInfo": {
     "elapsed": 433,
     "status": "error",
     "timestamp": 1645638345253,
     "user": {
      "displayName": "Sergey Simonov",
      "photoUrl": "https://lh3.googleusercontent.com/a-/AOh14GhQdeIfzzsg8bfb7DLHaLzEFH8Ebg2FyuaL9YoQyA=s64",
      "userId": "14094206399671235086"
     },
     "user_tz": -180
    },
    "id": "french-czech",
    "outputId": "7e38b779-8bbf-4955-c3ad-2a6be0ee386a"
   },
   "outputs": [
    {
     "name": "stdout",
     "output_type": "stream",
     "text": [
      "[[203 205 210 ... 441 445 446]\n",
      " [201 211 213 ... 444 445 449]\n",
      " [203 204 205 ... 442 442 443]\n",
      " ...\n",
      " [200 211 212 ... 443 448 449]\n",
      " [207 211 216 ... 440 441 449]\n",
      " [200 202 203 ... 442 445 448]]\n",
      "--- 112 ms ---\n"
     ]
    }
   ],
   "source": [
    "# Турнирная сортировка.\n",
    "start_time = time.time()\n",
    "list6 = matrix.copy()\n",
    "def heapify(arr, num, row):\n",
    "    largest = row\n",
    "    left = 2 * row + 1\n",
    "    right = 2 * row + 2\n",
    "\n",
    "    if left < num and arr[row] < arr[left]:\n",
    "        largest = left\n",
    "\n",
    "    if right < num and arr[largest] < arr[right]:\n",
    "        largest = right\n",
    "\n",
    "    if largest != row:\n",
    "        arr[row], arr[largest] = arr[largest], arr[row]\n",
    "\n",
    "        heapify(arr, num, largest)\n",
    "\n",
    "def heapsort(arr):\n",
    "    num = len(arr)\n",
    "\n",
    "    for row in range(num // 2, -1, -1):\n",
    "        heapify(arr, num, row)\n",
    "\n",
    "    for i in range(num - 1, 0, -1):\n",
    "        arr[i], arr[0] = arr[0], arr[i]\n",
    "        heapify(arr, i, 0)\n",
    "    \n",
    "    return arr\n",
    "\n",
    "for i in range(len(list6)):\n",
    "    list6[i] = heapsort(list6[i])\n",
    "\n",
    "print(list6)\n",
    "print(\"--- {0} ms ---\".format(round((time.time() - start_time)*1000)))"
   ]
  },
  {
   "cell_type": "markdown",
   "id": "rental-jerusalem",
   "metadata": {
    "id": "rental-jerusalem"
   },
   "source": [
    "### Вывод\n"
   ]
  },
  {
   "cell_type": "markdown",
   "id": "9d108a0a",
   "metadata": {
    "id": "9d108a0a"
   },
   "source": [
    "В данной лабораторной работе мы разобрали 6 алгоритмов сортировок. Самой быстрой оказалась быстрая сортировка, самой медленной - Шелла."
   ]
  }
 ],
 "metadata": {
  "colab": {
   "provenance": []
  },
  "kernelspec": {
   "display_name": "Python 3 (ipykernel)",
   "language": "python",
   "name": "python3"
  },
  "language_info": {
   "codemirror_mode": {
    "name": "ipython",
    "version": 3
   },
   "file_extension": ".py",
   "mimetype": "text/x-python",
   "name": "python",
   "nbconvert_exporter": "python",
   "pygments_lexer": "ipython3",
   "version": "3.8.10"
  }
 },
 "nbformat": 4,
 "nbformat_minor": 5
}
