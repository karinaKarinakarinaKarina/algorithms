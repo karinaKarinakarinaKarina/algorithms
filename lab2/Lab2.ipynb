{
 "cells": [
  {
   "cell_type": "markdown",
   "id": "fifteen-sailing",
   "metadata": {
    "id": "fifteen-sailing"
   },
   "source": [
    "# Лабораторная работа №2\n",
    "## Выполнил студент группы Налтакян Карина БВТ2204"
   ]
  },
  {
   "cell_type": "markdown",
   "id": "arctic-stocks",
   "metadata": {
    "id": "arctic-stocks"
   },
   "source": [
    "Реализовать следующие структуры данных:\n",
    "  \n",
    "● <b> Стек (stack): </b>  \n",
    "Операции для стека:\n",
    "<i> инициализация, проверка на пустоту, добавление нового элемента в начало, извлечение элемента из начала;  </i>  \n",
    "  \n",
    "● <b> Дек (двусторонняя очередь, deque):  </b>  \n",
    "Операции для дека:\n",
    "<i> инициализация, проверка на пустоту, добавление нового элемента в начало, добавление нового элемента в конец, извлечение элемента из начала, извлечение элемента из конца. </i>  \n",
    "  \n",
    "<i> Разработать программу обработки данных, содержащихся в заранее подготовленном txt-файле, в соответствии с заданиями, применив указанную в задании структуру данных. Результат работы программы вывести на экран и сохранить в отдельном txt-файле. </i>"
   ]
  },
  {
   "cell_type": "code",
   "execution_count": 3,
   "id": "b306390a-b940-4752-96ac-691e226b8fcf",
   "metadata": {},
   "outputs": [],
   "source": [
    "# стек \n",
    "class Node:\n",
    " \n",
    "    # Class to create nodes of linked list\n",
    "    # constructor initializes node automatically\n",
    "    def __init__(self, data):\n",
    "        self.data = data\n",
    "        self.next = None\n",
    " \n",
    " \n",
    "class Stack:\n",
    " \n",
    "    # head is default NULL\n",
    "    def __init__(self):\n",
    "        self.head = None\n",
    " \n",
    "    # Checks if stack is empty\n",
    "    def isEmpty(self):\n",
    "        if self.head == None:\n",
    "            return True\n",
    "        else:\n",
    "            return False\n",
    " \n",
    "    # Method to add data to the stack\n",
    "    # adds to the start of the stack\n",
    "    def add(self, data):\n",
    " \n",
    "        if self.head == None:\n",
    "            self.head = Node(data)\n",
    " \n",
    "        else:\n",
    "            newnode = Node(data)\n",
    "            newnode.next = self.head\n",
    "            self.head = newnode\n",
    " \n",
    "    # Remove element that is the current head (start of the stack)\n",
    "    def get_first(self):\n",
    " \n",
    "        if self.isEmpty():\n",
    "            return None\n",
    " \n",
    "        else:\n",
    "            # Removes the head node and makes\n",
    "            # the preceding one the new head\n",
    "            poppednode = self.head\n",
    "            self.head = self.head.next\n",
    "            poppednode.next = None\n",
    "            return poppednode.data"
   ]
  },
  {
   "cell_type": "code",
   "execution_count": 15,
   "id": "b535033b-cefe-4072-8ab4-10a28285eeed",
   "metadata": {},
   "outputs": [],
   "source": [
    "class Node:\n",
    "    def __init__(self, data):\n",
    "        self.data = data\n",
    "        self.next = None\n",
    "\n",
    "class Deque:\n",
    "    def __init__(self):\n",
    "        self.head = None\n",
    "        self.tail = None  # добавляем атрибут tail\n",
    "        self.length = 0\n",
    "\n",
    "    def is_empty(self):\n",
    "        return self.head is None\n",
    "\n",
    "    def add_front(self, data):\n",
    "        if self.head is None:\n",
    "            self.head = Node(data)\n",
    "            self.tail = self.head\n",
    "        else:\n",
    "            new_node = Node(data)\n",
    "            new_node.next = self.head\n",
    "            self.head = new_node\n",
    "        self.length += 1\n",
    "\n",
    "    def add_rear(self, data):\n",
    "        new_node = Node(data)\n",
    "        if self.tail is None:\n",
    "            self.tail = new_node\n",
    "            self.head = new_node\n",
    "        else:\n",
    "            self.tail.next = new_node\n",
    "            self.tail = new_node\n",
    "        self.length += 1\n",
    "\n",
    "    def remove_front(self):\n",
    "        if self.is_empty():\n",
    "            return None\n",
    "        else:\n",
    "            popped_node = self.head\n",
    "            self.head = self.head.next\n",
    "            if self.head is None:\n",
    "                self.tail = None\n",
    "            self.length -= 1\n",
    "            popped_data = popped_node.data\n",
    "            popped_node.next = None\n",
    "            return popped_data\n",
    "\n",
    "    def remove_rear(self):\n",
    "        if self.is_empty():\n",
    "            return None\n",
    "        current = self.head\n",
    "        previous = None\n",
    "        while current.next is not None:\n",
    "            previous = current\n",
    "            current = current.next\n",
    "        popped_data = current.data\n",
    "        if previous is None:\n",
    "            self.head = None\n",
    "            self.tail = None\n",
    "        else:\n",
    "            previous.next = None\n",
    "            self.tail = previous\n",
    "        self.length -= 1\n",
    "        return popped_data\n",
    "\n",
    "    def size(self):\n",
    "        return self.length\n",
    "\n"
   ]
  },
  {
   "cell_type": "markdown",
   "id": "5d7edb08",
   "metadata": {
    "id": "5d7edb08",
    "scrolled": true
   },
   "source": [
    "### Задание №1\n",
    "Отсортировать строки файла, содержащие названия книг, в алфавитном порядке с использованием двух деков."
   ]
  },
  {
   "cell_type": "code",
   "execution_count": 16,
   "id": "17702ade",
   "metadata": {
    "id": "17702ade"
   },
   "outputs": [
    {
     "name": "stdout",
     "output_type": "stream",
     "text": [
      "War and Peace\n",
      "To Kill a Mockingbird\n",
      "The Lord of the Rings\n",
      "The Hitchhiker's Guide to the Galaxy\n",
      "The Great Gatsby\n",
      "The Catcher in the Rye\n",
      "Pride and Prejudice\n",
      "One Hundred Years of Solitude\n",
      "Noughts & Crosses\n",
      "Moby Dick\n",
      "Lord of the Flies\n",
      "Brave New World\n",
      "Animal Farm\n"
     ]
    }
   ],
   "source": [
    "def sort_book_titles(file_name):\n",
    "    deque1 = Deque()\n",
    "    deque2 = Deque()\n",
    "\n",
    "    # Чтение строк из файла и добавление в первый дек\n",
    "    with open(file_name, 'r') as file:\n",
    "        for line in file:\n",
    "            deque1.add_rear(line.strip())\n",
    "\n",
    "    # Извлечение строк из первого дека, сортировка и добавление во второй дек\n",
    "    while not deque1.is_empty():\n",
    "        min_title = None\n",
    "        for _ in range(deque1.size()):\n",
    "            title = deque1.remove_front()\n",
    "            if min_title is None or title < min_title:\n",
    "                if min_title is not None:\n",
    "                    deque1.add_rear(min_title)\n",
    "                min_title = title\n",
    "            else:\n",
    "                deque1.add_rear(title)\n",
    "        deque2.add_front(min_title)\n",
    "\n",
    "    # Перенос отсортированных строк обратно в первый дек\n",
    "    while not deque2.is_empty():\n",
    "        deque1.add_rear(deque2.remove_front())\n",
    "\n",
    "    # Вывод отсортированных строк\n",
    "    while not deque1.is_empty():\n",
    "        print(deque1.remove_front())\n",
    "\n",
    "# Сортировка названий книг из файла books.txt\n",
    "sort_book_titles(\"books.txt\")"
   ]
  },
  {
   "cell_type": "markdown",
   "id": "49fbd2a0",
   "metadata": {
    "id": "49fbd2a0"
   },
   "source": [
    "### Задание №2\n",
    "Дек содержит последовательность символов для шифровки сообщений. Дан текстовый файл, содержащий зашифрованное сообщение. Пользуясь деком, расшифровать текст.\n",
    "Известно, что при шифровке каждый символ сообщения заменялся следующим за ним в деке по часовой стрелке через один."
   ]
  },
  {
   "cell_type": "code",
   "execution_count": 10,
   "id": "81cab7a8",
   "metadata": {
    "id": "81cab7a8"
   },
   "outputs": [
    {
     "name": "stdout",
     "output_type": "stream",
     "text": [
      "Расшифрованное сообщение:\n",
      "cfiloru xaejnsw bhpvdm\n"
     ]
    }
   ],
   "source": [
    "def decrypt_message(encrypted_message):\n",
    "    decryption_deque = Deque()\n",
    "    # Заполняем дек символами для шифровки\n",
    "    for char in \"abcdefghijklmnopqrstuvwxyz\":\n",
    "        decryption_deque.add_rear(char)\n",
    "\n",
    "    decrypted_message = \"\"\n",
    "    for char in encrypted_message:\n",
    "        if char.isalpha():\n",
    "            # Расшифровываем символ\n",
    "            for _ in range(2):\n",
    "                decryption_deque.add_rear(decryption_deque.remove_front())\n",
    "            next_char = decryption_deque.remove_front()\n",
    "            decrypted_message += next_char\n",
    "        else:\n",
    "            decrypted_message += char\n",
    "\n",
    "    return decrypted_message\n",
    "\n",
    "# Считываем зашифрованное сообщение из файла\n",
    "with open(\"encrypted_message.txt\", \"r\") as file:\n",
    "    encrypted_message = file.read()\n",
    "\n",
    "# Расшифровываем сообщение\n",
    "decrypted_message = decrypt_message(encrypted_message)\n",
    "\n",
    "# Выводим расшифрованное сообщение\n",
    "print(\"Расшифрованное сообщение:\")\n",
    "print(decrypted_message)"
   ]
  },
  {
   "cell_type": "markdown",
   "id": "c0894f47",
   "metadata": {
    "id": "c0894f47"
   },
   "source": [
    "### Задание №3\n",
    "Даны три стержня и n дисков различного размера. Диски можно надевать на стержни, образуя из них башни. Перенести n дисков со стержня А на стержень С, сохранив их первоначальный порядок. При переносе дисков необходимо соблюдать следующие правила:\n",
    "- на каждом шаге со стержня на стержень переносить только один диск;\n",
    "- диск нельзя помещать на диск меньшего размера;\n",
    "- для промежуточного хранения можно использовать стержень В.\n",
    "Реализовать алгоритм, используя три стека вместо стержней А, В, С. Информация о дисках хранится в исходном файле."
   ]
  },
  {
   "cell_type": "code",
   "execution_count": 12,
   "id": "9e91a9d4",
   "metadata": {
    "id": "9e91a9d4"
   },
   "outputs": [
    {
     "name": "stdout",
     "output_type": "stream",
     "text": [
      "8\n",
      "56\n",
      "3\n",
      "1\n",
      "4\n",
      "2\n",
      "7\n",
      "6\n",
      "5\n"
     ]
    }
   ],
   "source": [
    "\n",
    "def move_disks(n, source, target, auxiliary):\n",
    "    if n == 1:\n",
    "        target.add(source.get_first())\n",
    "    else:\n",
    "        move_disks(n-1, source, auxiliary, target)\n",
    "        target.add(source.get_first())\n",
    "        move_disks(n-1, auxiliary, target, source)\n",
    "\n",
    "source = Stack()\n",
    "target = Stack()\n",
    "auxiliary = Stack()\n",
    "\n",
    "# Пример исходного файла\n",
    "with open(\"disks.txt\", \"r\") as file:\n",
    "    for line in file:\n",
    "        disk = int(line.strip())\n",
    "        source.add(disk)\n",
    "\n",
    "n = len(source.arr)\n",
    "move_disks(n, source, target, auxiliary)\n",
    "\n",
    "while not target.isEmpty():\n",
    "    print(target.get_first())"
   ]
  },
  {
   "cell_type": "markdown",
   "id": "e5b0be17",
   "metadata": {
    "id": "e5b0be17"
   },
   "source": [
    "### Задание №4\n",
    "Дан текстовый файл с программой на алгоритмическом языке. За один просмотр файла проверить баланс круглых скобок в тексте, используя стек."
   ]
  },
  {
   "cell_type": "code",
   "execution_count": 19,
   "id": "5b1df60a",
   "metadata": {
    "id": "5b1df60a"
   },
   "outputs": [
    {
     "name": "stdout",
     "output_type": "stream",
     "text": [
      "Баланс скобок нарушен\n"
     ]
    }
   ],
   "source": [
    "\n",
    "def check_brackets_balance(file_name):\n",
    "    stack = Stack()\n",
    "    with open(file_name, \"r\") as file:\n",
    "        for line in file:\n",
    "            for char in line:\n",
    "                if char == \"(\":\n",
    "                    stack.add(char)\n",
    "                elif char == \")\":\n",
    "                    if stack.isEmpty():\n",
    "                        return False\n",
    "                    else:\n",
    "                        stack.get_first()\n",
    "    return stack.isEmpty()\n",
    "\n",
    "file_name = \"program.txt\"\n",
    "if check_brackets_balance(file_name):\n",
    "    print(\"Баланс скобок соблюден\")\n",
    "else:\n",
    "    print(\"Баланс скобок нарушен\")"
   ]
  },
  {
   "cell_type": "markdown",
   "id": "c44cdd6b",
   "metadata": {
    "id": "c44cdd6b"
   },
   "source": [
    "### Задание №5\n",
    "Дан текстовый файл с программой на алгоритмическом языке. За один просмотр файла проверить баланс квадратных скобок в тексте, используя дек."
   ]
  },
  {
   "cell_type": "code",
   "execution_count": 20,
   "id": "36b8f400",
   "metadata": {
    "id": "36b8f400"
   },
   "outputs": [
    {
     "name": "stdout",
     "output_type": "stream",
     "text": [
      "True\n"
     ]
    }
   ],
   "source": [
    "def check_balance(text):\n",
    "    deque = Deque()\n",
    "    for char in text:\n",
    "        if char == '[':\n",
    "            deque.add_rear(char)\n",
    "        elif char == ']':\n",
    "            if deque.is_empty():\n",
    "                return False\n",
    "            else:\n",
    "                deque.remove_rear()\n",
    "    if deque.is_empty():\n",
    "        return True\n",
    "    else:\n",
    "        return False\n",
    "\n",
    "# Чтение текста из файла\n",
    "file_name = \"program1.txt\"\n",
    "with open(file_name, 'r') as file:\n",
    "    text = file.read()\n",
    "\n",
    "print(check_balance(text))  # Вывод результата проверки баланса квадратных скобок"
   ]
  },
  {
   "cell_type": "markdown",
   "id": "59d13dc7",
   "metadata": {
    "id": "59d13dc7"
   },
   "source": [
    "### Задание №6\n",
    "Дан файл из символов. Используя стек, за один просмотр файла напечатать сначала все цифры, затем все буквы, и, наконец, все остальные символы, сохраняя исходный порядок в каждой группе символов."
   ]
  },
  {
   "cell_type": "code",
   "execution_count": 5,
   "id": "297e36c2",
   "metadata": {
    "id": "297e36c2"
   },
   "outputs": [
    {
     "name": "stdout",
     "output_type": "stream",
     "text": [
      "Цифры:\n",
      "7531\n",
      "Буквы:\n",
      "ihgfedcba\n",
      "Остальные символы:\n",
      "!$@"
     ]
    }
   ],
   "source": [
    "def print_characters_in_order(file_name):\n",
    "    numbers_stack = Stack()\n",
    "    letters_stack = Stack()\n",
    "    other_stack = Stack()\n",
    "\n",
    "    with open(file_name, \"r\") as file:\n",
    "        for line in file:\n",
    "            for char in line:\n",
    "                if char.isdigit():\n",
    "                    numbers_stack.add(char)\n",
    "                elif char.isalpha():\n",
    "                    letters_stack.add(char)\n",
    "                else:\n",
    "                    other_stack.add(char)\n",
    "\n",
    "    print(\"Цифры:\")\n",
    "    while not numbers_stack.isEmpty():\n",
    "        print(numbers_stack.get_first(), end='')\n",
    "\n",
    "    print(\"\\nБуквы:\")\n",
    "    while not letters_stack.isEmpty():\n",
    "        print(letters_stack.get_first(), end='')\n",
    "\n",
    "    print(\"\\nОстальные символы:\")\n",
    "    while not other_stack.isEmpty():\n",
    "        print(other_stack.get_first(), end='')\n",
    "\n",
    "file_name = \"symbols.txt\"\n",
    "print_characters_in_order(file_name)"
   ]
  },
  {
   "cell_type": "markdown",
   "id": "973f68bd",
   "metadata": {
    "id": "973f68bd"
   },
   "source": [
    "### Задание №7\n",
    "Дан файл из целых чисел. Используя дек, за один просмотр файла напечатать сначала все отрицательные числа, затем все положительные числа, сохраняя исходный порядок в каждой группе."
   ]
  },
  {
   "cell_type": "code",
   "execution_count": 20,
   "id": "c56fad66",
   "metadata": {
    "id": "c56fad66"
   },
   "outputs": [
    {
     "name": "stdout",
     "output_type": "stream",
     "text": [
      "Отрицательные числа:\n",
      "-5\n",
      "-3\n",
      "-2\n",
      "-7\n",
      "Положительные числа:\n",
      "10\n",
      "8\n",
      "6\n"
     ]
    }
   ],
   "source": [
    "def print_numbers_in_order(file_name):\n",
    "    neg_deque = Deque()\n",
    "    pos_deque = Deque()\n",
    "\n",
    "    with open(file_name, \"r\") as file:\n",
    "        for line in file:\n",
    "            number = int(line)\n",
    "            if number < 0:\n",
    "                neg_deque.add_rear(number)\n",
    "            else:\n",
    "                pos_deque.add_rear(number)\n",
    "\n",
    "    print(\"Отрицательные числа:\")\n",
    "    while not neg_deque.is_empty():\n",
    "        print(neg_deque.remove_front())\n",
    "\n",
    "    print(\"Положительные числа:\")\n",
    "    while not pos_deque.is_empty():\n",
    "        print(pos_deque.remove_front())\n",
    "\n",
    "file_name = \"numbers.txt\"\n",
    "print_numbers_in_order(file_name)"
   ]
  },
  {
   "cell_type": "markdown",
   "id": "b9228191",
   "metadata": {
    "id": "b9228191"
   },
   "source": [
    "### Задание №8\n",
    "Дан текстовый файл. Используя стек, сформировать новый текстовый файл, содержащий строки исходного файла, записанные в обратном порядке: первая строка становится последней, вторая – предпоследней и т.д."
   ]
  },
  {
   "cell_type": "code",
   "execution_count": 21,
   "id": "981fbdfe",
   "metadata": {
    "id": "981fbdfe"
   },
   "outputs": [],
   "source": [
    "# Создаем экземпляр класса Stack\n",
    "stack = Stack()\n",
    "\n",
    "# Открываем исходный файл для чтения\n",
    "with open(\"input.txt\", \"r\") as file:\n",
    "    for line in file:\n",
    "        # Удаляем символ переноса строки в конце строки\n",
    "        line = line.rstrip()\n",
    "        # Добавляем строку в стек\n",
    "        stack.add(line)\n",
    "\n",
    "# Открываем новый файл для записи\n",
    "with open(\"output.txt\", \"w\") as file:\n",
    "    # Пока стек не пуст, извлекаем элементы и записываем их в обратном порядке в новый файл\n",
    "    while not stack.isEmpty():\n",
    "        file.write(stack.get_first() + \"\\n\")"
   ]
  },
  {
   "cell_type": "markdown",
   "id": "rental-jerusalem",
   "metadata": {
    "id": "rental-jerusalem"
   },
   "source": [
    "### Вывод\n"
   ]
  },
  {
   "cell_type": "markdown",
   "id": "0c2b8899",
   "metadata": {
    "id": "0c2b8899"
   },
   "source": [
    "В данной лабораторной работе мы реализовали такие структуры данных, как стек и дек. Основываясь на их реализации, решили несколько задач."
   ]
  }
 ],
 "metadata": {
  "colab": {
   "provenance": []
  },
  "kernelspec": {
   "display_name": "Python 3 (ipykernel)",
   "language": "python",
   "name": "python3"
  },
  "language_info": {
   "codemirror_mode": {
    "name": "ipython",
    "version": 3
   },
   "file_extension": ".py",
   "mimetype": "text/x-python",
   "name": "python",
   "nbconvert_exporter": "python",
   "pygments_lexer": "ipython3",
   "version": "3.8.10"
  }
 },
 "nbformat": 4,
 "nbformat_minor": 5
}
